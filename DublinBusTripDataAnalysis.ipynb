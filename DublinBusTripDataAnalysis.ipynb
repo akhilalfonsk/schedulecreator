{
  "nbformat": 4,
  "nbformat_minor": 0,
  "metadata": {
    "colab": {
      "name": "DublinBusTripDataAnalysis.ipynb",
      "provenance": [],
      "collapsed_sections": [],
      "machine_shape": "hm",
      "include_colab_link": true
    },
    "kernelspec": {
      "name": "python3",
      "display_name": "Python 3"
    },
    "accelerator": "TPU"
  },
  "cells": [
    {
      "cell_type": "markdown",
      "metadata": {
        "id": "view-in-github",
        "colab_type": "text"
      },
      "source": [
        "<a href=\"https://colab.research.google.com/github/akhilalfonsk/schedulecreator/blob/master/DublinBusTripDataAnalysis.ipynb\" target=\"_parent\"><img src=\"https://colab.research.google.com/assets/colab-badge.svg\" alt=\"Open In Colab\"/></a>"
      ]
    },
    {
      "cell_type": "code",
      "metadata": {
        "colab_type": "code",
        "id": "SeTJb51SKs_W",
        "outputId": "f234723c-a863-4b68-aa27-cd1c31271ed4",
        "colab": {
          "base_uri": "https://localhost:8080/",
          "height": 70
        }
      },
      "source": [
        "from google.colab import auth\n",
        "auth.authenticate_user()\n",
        "print('User Authenticated')\n",
        "project_id = 'causefinder'\n",
        "%load_ext google.colab.data_table"
      ],
      "execution_count": 16,
      "outputs": [
        {
          "output_type": "stream",
          "text": [
            "User Authenticated\n",
            "The google.colab.data_table extension is already loaded. To reload it, use:\n",
            "  %reload_ext google.colab.data_table\n"
          ],
          "name": "stdout"
        }
      ]
    },
    {
      "cell_type": "code",
      "metadata": {
        "id": "D0rpGuXFORSX",
        "colab_type": "code",
        "outputId": "d449bad9-4ced-434f-f458-ded710b2a396",
        "colab": {
          "base_uri": "https://localhost:8080/",
          "height": 110
        }
      },
      "source": [
        "%%bigquery --project causefinder\n",
        "SELECT \n",
        "  COUNT(*) as total_tripdata\n",
        "FROM `causefinder.TripDB.RealTimeTripData`"
      ],
      "execution_count": 17,
      "outputs": [
        {
          "output_type": "execute_result",
          "data": {
            "application/vnd.google.colaboratory.module+javascript": "\n      import \"https://ssl.gstatic.com/colaboratory/data_table/a6224c040fa35dcf/data_table.js\";\n\n      window.createDataTable({\n        data: [[{\n            'v': 0,\n            'f': \"0\",\n        },\n{\n            'v': 22783753,\n            'f': \"22783753\",\n        }]],\n        columns: [[\"number\", \"index\"], [\"number\", \"total_tripdata\"]],\n        columnOptions: [{\"width\": \"1px\", \"className\": \"index_column\"}],\n        rowsPerPage: 25,\n        helpUrl: \"https://colab.research.google.com/notebooks/data_table.ipynb\",\n        suppressOutputScrolling: true,\n        minimumWidth: undefined,\n      });\n    ",
            "text/html": [
              "<div>\n",
              "<style scoped>\n",
              "    .dataframe tbody tr th:only-of-type {\n",
              "        vertical-align: middle;\n",
              "    }\n",
              "\n",
              "    .dataframe tbody tr th {\n",
              "        vertical-align: top;\n",
              "    }\n",
              "\n",
              "    .dataframe thead th {\n",
              "        text-align: right;\n",
              "    }\n",
              "</style>\n",
              "<table border=\"1\" class=\"dataframe\">\n",
              "  <thead>\n",
              "    <tr style=\"text-align: right;\">\n",
              "      <th></th>\n",
              "      <th>total_tripdata</th>\n",
              "    </tr>\n",
              "  </thead>\n",
              "  <tbody>\n",
              "    <tr>\n",
              "      <th>0</th>\n",
              "      <td>22783753</td>\n",
              "    </tr>\n",
              "  </tbody>\n",
              "</table>\n",
              "</div>"
            ],
            "text/plain": [
              "   total_tripdata\n",
              "0        22783753"
            ]
          },
          "metadata": {
            "tags": []
          },
          "execution_count": 17
        }
      ]
    },
    {
      "cell_type": "code",
      "metadata": {
        "colab_type": "code",
        "id": "ONI1Xo0-KtAD",
        "colab": {}
      },
      "source": [
        "from google.cloud import bigquery\n",
        "\n",
        "client = bigquery.Client(project=project_id)\n",
        "\n",
        "rawData = client.query('''\n",
        "  SELECT\n",
        "    *\n",
        "  FROM\n",
        "    `causefinder.TripDB.RealTimeTripData`''').to_dataframe()"
      ],
      "execution_count": 0,
      "outputs": []
    },
    {
      "cell_type": "markdown",
      "metadata": {
        "id": "5_wrRsileKiW",
        "colab_type": "text"
      },
      "source": [
        "## **Take Data Only When needed**"
      ]
    },
    {
      "cell_type": "code",
      "metadata": {
        "id": "7AbvAoN8ySOI",
        "colab_type": "code",
        "outputId": "99d994ef-6186-47cd-ef6e-9bc7e28fe6af",
        "colab": {
          "base_uri": "https://localhost:8080/",
          "height": 549
        }
      },
      "source": [
        "import numpy as np\n",
        "import seaborn as sns\n",
        "sns.set(style='white')\n",
        "cmap = sns.diverging_palette(220, 10, as_cmap=True)\n",
        "df=rawData.copy(deep=True)\n",
        "df.head(10)"
      ],
      "execution_count": 62,
      "outputs": [
        {
          "output_type": "execute_result",
          "data": {
            "text/html": [
              "<div>\n",
              "<style scoped>\n",
              "    .dataframe tbody tr th:only-of-type {\n",
              "        vertical-align: middle;\n",
              "    }\n",
              "\n",
              "    .dataframe tbody tr th {\n",
              "        vertical-align: top;\n",
              "    }\n",
              "\n",
              "    .dataframe thead th {\n",
              "        text-align: right;\n",
              "    }\n",
              "</style>\n",
              "<table border=\"1\" class=\"dataframe\">\n",
              "  <thead>\n",
              "    <tr style=\"text-align: right;\">\n",
              "      <th></th>\n",
              "      <th>id</th>\n",
              "      <th>RouteNumber</th>\n",
              "      <th>ResponseTimestamp</th>\n",
              "      <th>DataScrapedTimestamp</th>\n",
              "      <th>OperetorRef</th>\n",
              "      <th>BlockRef</th>\n",
              "      <th>VehicleRef</th>\n",
              "      <th>JourneyRef</th>\n",
              "      <th>VehicleDirection</th>\n",
              "      <th>LineRef</th>\n",
              "      <th>DestinationStopId</th>\n",
              "      <th>BusStopId</th>\n",
              "      <th>VisitSequenceNumber</th>\n",
              "      <th>RecordedArrivalTime</th>\n",
              "      <th>AimedArrivalTime</th>\n",
              "      <th>AimedDepartureTime</th>\n",
              "      <th>ExpectedArrivalTime</th>\n",
              "      <th>ExpectedDepartureTime</th>\n",
              "      <th>InCongestionIndicator</th>\n",
              "      <th>AimedMinutesDue</th>\n",
              "      <th>ExpectedMinutesDue</th>\n",
              "      <th>RouteSequence</th>\n",
              "      <th>BusStopAddress</th>\n",
              "      <th>Latitude</th>\n",
              "      <th>Longitude</th>\n",
              "    </tr>\n",
              "  </thead>\n",
              "  <tbody>\n",
              "    <tr>\n",
              "      <th>0</th>\n",
              "      <td>32718331</td>\n",
              "      <td>1</td>\n",
              "      <td>2019-02-27 19:58:47+00:00</td>\n",
              "      <td>2019-02-27 19:58:47+00:00</td>\n",
              "      <td>bac</td>\n",
              "      <td>1010</td>\n",
              "      <td>43105</td>\n",
              "      <td>4404</td>\n",
              "      <td>Outbound</td>\n",
              "      <td>1.0</td>\n",
              "      <td>52</td>\n",
              "      <td>46</td>\n",
              "      <td>16</td>\n",
              "      <td>2019-02-27 19:58:47+00:00</td>\n",
              "      <td>2019-02-27 20:11:57+00:00</td>\n",
              "      <td>2019-02-27 20:11:57+00:00</td>\n",
              "      <td>2019-02-27 20:11:57+00:00</td>\n",
              "      <td>2019-02-27 20:11:57+00:00</td>\n",
              "      <td>0</td>\n",
              "      <td>13</td>\n",
              "      <td>13</td>\n",
              "      <td>15</td>\n",
              "      <td>Drumcondra Rd</td>\n",
              "      <td>53.367147</td>\n",
              "      <td>-6.255359</td>\n",
              "    </tr>\n",
              "    <tr>\n",
              "      <th>1</th>\n",
              "      <td>5809640</td>\n",
              "      <td>1</td>\n",
              "      <td>2019-02-09 13:10:27+00:00</td>\n",
              "      <td>2019-02-09 13:10:27+00:00</td>\n",
              "      <td>bac</td>\n",
              "      <td>1001</td>\n",
              "      <td>44093</td>\n",
              "      <td>10288</td>\n",
              "      <td>Outbound</td>\n",
              "      <td>1.0</td>\n",
              "      <td>49</td>\n",
              "      <td>46</td>\n",
              "      <td>16</td>\n",
              "      <td>2019-02-09 13:10:27+00:00</td>\n",
              "      <td>2019-02-09 13:33:59+00:00</td>\n",
              "      <td>2019-02-09 13:33:59+00:00</td>\n",
              "      <td>2019-02-09 13:33:59+00:00</td>\n",
              "      <td>2019-02-09 13:33:59+00:00</td>\n",
              "      <td>0</td>\n",
              "      <td>23</td>\n",
              "      <td>23</td>\n",
              "      <td>15</td>\n",
              "      <td>Drumcondra Rd</td>\n",
              "      <td>53.367147</td>\n",
              "      <td>-6.255359</td>\n",
              "    </tr>\n",
              "    <tr>\n",
              "      <th>2</th>\n",
              "      <td>17156097</td>\n",
              "      <td>1</td>\n",
              "      <td>2019-02-16 23:29:37+00:00</td>\n",
              "      <td>2019-02-16 23:29:37+00:00</td>\n",
              "      <td>bac</td>\n",
              "      <td>1005</td>\n",
              "      <td>44210</td>\n",
              "      <td>10353</td>\n",
              "      <td>Outbound</td>\n",
              "      <td>1.0</td>\n",
              "      <td>271</td>\n",
              "      <td>46</td>\n",
              "      <td>16</td>\n",
              "      <td>2019-02-16 23:29:37+00:00</td>\n",
              "      <td>2019-02-16 23:37:41+00:00</td>\n",
              "      <td>2019-02-16 23:37:41+00:00</td>\n",
              "      <td>2019-02-16 23:37:41+00:00</td>\n",
              "      <td>2019-02-16 23:37:41+00:00</td>\n",
              "      <td>0</td>\n",
              "      <td>8</td>\n",
              "      <td>8</td>\n",
              "      <td>15</td>\n",
              "      <td>Drumcondra Rd</td>\n",
              "      <td>53.367147</td>\n",
              "      <td>-6.255359</td>\n",
              "    </tr>\n",
              "    <tr>\n",
              "      <th>3</th>\n",
              "      <td>21790438</td>\n",
              "      <td>1</td>\n",
              "      <td>2019-02-19 23:39:29+00:00</td>\n",
              "      <td>2019-02-19 23:39:29+00:00</td>\n",
              "      <td>bac</td>\n",
              "      <td>1014</td>\n",
              "      <td>44086</td>\n",
              "      <td>4455</td>\n",
              "      <td>Outbound</td>\n",
              "      <td>1.0</td>\n",
              "      <td>271</td>\n",
              "      <td>46</td>\n",
              "      <td>16</td>\n",
              "      <td>2019-02-19 23:39:29+00:00</td>\n",
              "      <td>2019-02-19 23:37:48+00:00</td>\n",
              "      <td>2019-02-19 23:37:48+00:00</td>\n",
              "      <td>2019-02-19 23:41:07+00:00</td>\n",
              "      <td>2019-02-19 23:41:07+00:00</td>\n",
              "      <td>0</td>\n",
              "      <td>-1</td>\n",
              "      <td>1</td>\n",
              "      <td>15</td>\n",
              "      <td>Drumcondra Rd</td>\n",
              "      <td>53.367147</td>\n",
              "      <td>-6.255359</td>\n",
              "    </tr>\n",
              "    <tr>\n",
              "      <th>4</th>\n",
              "      <td>27338966</td>\n",
              "      <td>1</td>\n",
              "      <td>2019-02-23 23:27:27+00:00</td>\n",
              "      <td>2019-02-23 23:27:27+00:00</td>\n",
              "      <td>bac</td>\n",
              "      <td>1005</td>\n",
              "      <td>44092</td>\n",
              "      <td>10353</td>\n",
              "      <td>Outbound</td>\n",
              "      <td>1.0</td>\n",
              "      <td>271</td>\n",
              "      <td>46</td>\n",
              "      <td>16</td>\n",
              "      <td>2019-02-23 23:27:27+00:00</td>\n",
              "      <td>2019-02-23 23:37:41+00:00</td>\n",
              "      <td>2019-02-23 23:37:41+00:00</td>\n",
              "      <td>2019-02-23 23:37:41+00:00</td>\n",
              "      <td>2019-02-23 23:37:41+00:00</td>\n",
              "      <td>0</td>\n",
              "      <td>10</td>\n",
              "      <td>10</td>\n",
              "      <td>15</td>\n",
              "      <td>Drumcondra Rd</td>\n",
              "      <td>53.367147</td>\n",
              "      <td>-6.255359</td>\n",
              "    </tr>\n",
              "    <tr>\n",
              "      <th>5</th>\n",
              "      <td>32898576</td>\n",
              "      <td>11</td>\n",
              "      <td>2019-02-27 22:54:56+00:00</td>\n",
              "      <td>2019-02-27 22:54:56+00:00</td>\n",
              "      <td>bac</td>\n",
              "      <td>11009</td>\n",
              "      <td>43089</td>\n",
              "      <td>6593</td>\n",
              "      <td>Outbound</td>\n",
              "      <td>11.0</td>\n",
              "      <td>271</td>\n",
              "      <td>48</td>\n",
              "      <td>16</td>\n",
              "      <td>2019-02-27 22:54:56+00:00</td>\n",
              "      <td>2019-02-27 23:39:53+00:00</td>\n",
              "      <td>2019-02-27 23:39:53+00:00</td>\n",
              "      <td>2019-02-27 23:39:53+00:00</td>\n",
              "      <td>2019-02-27 23:39:53+00:00</td>\n",
              "      <td>0</td>\n",
              "      <td>44</td>\n",
              "      <td>44</td>\n",
              "      <td>15</td>\n",
              "      <td>Drumcondra Rd</td>\n",
              "      <td>53.362322</td>\n",
              "      <td>-6.258764</td>\n",
              "    </tr>\n",
              "    <tr>\n",
              "      <th>6</th>\n",
              "      <td>20210699</td>\n",
              "      <td>11</td>\n",
              "      <td>2019-02-18 23:21:55+00:00</td>\n",
              "      <td>2019-02-18 23:21:55+00:00</td>\n",
              "      <td>bac</td>\n",
              "      <td>11009</td>\n",
              "      <td>33538</td>\n",
              "      <td>6613</td>\n",
              "      <td>Outbound</td>\n",
              "      <td>11.0</td>\n",
              "      <td>271</td>\n",
              "      <td>48</td>\n",
              "      <td>16</td>\n",
              "      <td>2019-02-18 23:21:55+00:00</td>\n",
              "      <td>2019-02-18 23:37:45+00:00</td>\n",
              "      <td>2019-02-18 23:37:45+00:00</td>\n",
              "      <td>2019-02-18 23:37:45+00:00</td>\n",
              "      <td>2019-02-18 23:37:45+00:00</td>\n",
              "      <td>0</td>\n",
              "      <td>15</td>\n",
              "      <td>15</td>\n",
              "      <td>15</td>\n",
              "      <td>Drumcondra Rd</td>\n",
              "      <td>53.362322</td>\n",
              "      <td>-6.258764</td>\n",
              "    </tr>\n",
              "    <tr>\n",
              "      <th>7</th>\n",
              "      <td>20192454</td>\n",
              "      <td>11</td>\n",
              "      <td>2019-02-18 23:06:11+00:00</td>\n",
              "      <td>2019-02-18 23:06:11+00:00</td>\n",
              "      <td>bac</td>\n",
              "      <td>11009</td>\n",
              "      <td>33538</td>\n",
              "      <td>6613</td>\n",
              "      <td>Outbound</td>\n",
              "      <td>11.0</td>\n",
              "      <td>271</td>\n",
              "      <td>48</td>\n",
              "      <td>16</td>\n",
              "      <td>2019-02-18 23:06:11+00:00</td>\n",
              "      <td>2019-02-18 23:37:45+00:00</td>\n",
              "      <td>2019-02-18 23:37:45+00:00</td>\n",
              "      <td>2019-02-18 23:37:45+00:00</td>\n",
              "      <td>2019-02-18 23:37:45+00:00</td>\n",
              "      <td>0</td>\n",
              "      <td>31</td>\n",
              "      <td>31</td>\n",
              "      <td>15</td>\n",
              "      <td>Drumcondra Rd</td>\n",
              "      <td>53.362322</td>\n",
              "      <td>-6.258764</td>\n",
              "    </tr>\n",
              "    <tr>\n",
              "      <th>8</th>\n",
              "      <td>11248405</td>\n",
              "      <td>11</td>\n",
              "      <td>2019-02-12 23:16:12+00:00</td>\n",
              "      <td>2019-02-12 23:16:12+00:00</td>\n",
              "      <td>bac</td>\n",
              "      <td>11009</td>\n",
              "      <td>38031</td>\n",
              "      <td>6613</td>\n",
              "      <td>Outbound</td>\n",
              "      <td>11.0</td>\n",
              "      <td>271</td>\n",
              "      <td>48</td>\n",
              "      <td>16</td>\n",
              "      <td>2019-02-12 23:16:12+00:00</td>\n",
              "      <td>2019-02-12 23:38:03+00:00</td>\n",
              "      <td>2019-02-12 23:38:03+00:00</td>\n",
              "      <td>2019-02-12 23:38:03+00:00</td>\n",
              "      <td>2019-02-12 23:38:03+00:00</td>\n",
              "      <td>0</td>\n",
              "      <td>21</td>\n",
              "      <td>21</td>\n",
              "      <td>15</td>\n",
              "      <td>Drumcondra Rd</td>\n",
              "      <td>53.362322</td>\n",
              "      <td>-6.258764</td>\n",
              "    </tr>\n",
              "    <tr>\n",
              "      <th>9</th>\n",
              "      <td>31543762</td>\n",
              "      <td>11</td>\n",
              "      <td>2019-02-26 23:09:07+00:00</td>\n",
              "      <td>2019-02-26 23:09:07+00:00</td>\n",
              "      <td>bac</td>\n",
              "      <td>11009</td>\n",
              "      <td>44475</td>\n",
              "      <td>6593</td>\n",
              "      <td>Outbound</td>\n",
              "      <td>11.0</td>\n",
              "      <td>271</td>\n",
              "      <td>48</td>\n",
              "      <td>16</td>\n",
              "      <td>2019-02-26 23:09:07+00:00</td>\n",
              "      <td>2019-02-26 23:39:53+00:00</td>\n",
              "      <td>2019-02-26 23:39:53+00:00</td>\n",
              "      <td>2019-02-26 23:39:53+00:00</td>\n",
              "      <td>2019-02-26 23:39:53+00:00</td>\n",
              "      <td>0</td>\n",
              "      <td>30</td>\n",
              "      <td>30</td>\n",
              "      <td>15</td>\n",
              "      <td>Drumcondra Rd</td>\n",
              "      <td>53.362322</td>\n",
              "      <td>-6.258764</td>\n",
              "    </tr>\n",
              "  </tbody>\n",
              "</table>\n",
              "</div>"
            ],
            "text/plain": [
              "         id  RouteNumber  ...   Latitude Longitude\n",
              "0  32718331            1  ...  53.367147 -6.255359\n",
              "1   5809640            1  ...  53.367147 -6.255359\n",
              "2  17156097            1  ...  53.367147 -6.255359\n",
              "3  21790438            1  ...  53.367147 -6.255359\n",
              "4  27338966            1  ...  53.367147 -6.255359\n",
              "5  32898576           11  ...  53.362322 -6.258764\n",
              "6  20210699           11  ...  53.362322 -6.258764\n",
              "7  20192454           11  ...  53.362322 -6.258764\n",
              "8  11248405           11  ...  53.362322 -6.258764\n",
              "9  31543762           11  ...  53.362322 -6.258764\n",
              "\n",
              "[10 rows x 25 columns]"
            ]
          },
          "metadata": {
            "tags": []
          },
          "execution_count": 62
        }
      ]
    },
    {
      "cell_type": "code",
      "metadata": {
        "id": "1_17jZhDV6Sz",
        "colab_type": "code",
        "colab": {}
      },
      "source": [
        ""
      ],
      "execution_count": 0,
      "outputs": []
    },
    {
      "cell_type": "code",
      "metadata": {
        "id": "BzAcHPO9Sco2",
        "colab_type": "code",
        "outputId": "77c4c3b7-e0d2-493b-9e05-698c596911e8",
        "colab": {
          "base_uri": "https://localhost:8080/",
          "height": 401
        }
      },
      "source": [
        "sns.heatmap(df.corr(),cmap=cmap)"
      ],
      "execution_count": 50,
      "outputs": [
        {
          "output_type": "execute_result",
          "data": {
            "text/plain": [
              "<matplotlib.axes._subplots.AxesSubplot at 0x7f13cdd33c18>"
            ]
          },
          "metadata": {
            "tags": []
          },
          "execution_count": 50
        },
        {
          "output_type": "display_data",
          "data": {
            "image/png": "[encoded data removed]",
            "text/plain": [
              "<Figure size 432x288 with 2 Axes>"
            ]
          },
          "metadata": {
            "tags": []
          }
        }
      ]
    },
    {
      "cell_type": "code",
      "metadata": {
        "id": "eUwBPaBs9JAv",
        "colab_type": "code",
        "colab": {}
      },
      "source": [
        "df = df.drop(['id','ResponseTimestamp','DataScrapedTimestamp','OperetorRef','LineRef','AimedDepartureTime','ExpectedArrivalTime','ExpectedDepartureTime','ExpectedMinutesDue'], axis=1)"
      ],
      "execution_count": 0,
      "outputs": []
    },
    {
      "cell_type": "code",
      "metadata": {
        "id": "ChZfNEHz5Ont",
        "colab_type": "code",
        "colab": {}
      },
      "source": [
        "def LabelEncoding(col):\n",
        "  from sklearn.preprocessing import LabelEncoder\n",
        "  le = LabelEncoder()\n",
        "  le.fit(df[col])\n",
        "  list(le.classes_)\n",
        "  return le.transform(df[col])"
      ],
      "execution_count": 0,
      "outputs": []
    },
    {
      "cell_type": "code",
      "metadata": {
        "id": "m46RLlFmDBUk",
        "colab_type": "code",
        "colab": {}
      },
      "source": [
        "\n",
        "df['BlockRefNew']=LabelEncoding('BlockRef')\n",
        "df['VehicleRefNew']=LabelEncoding('VehicleRef')\n",
        "df['JourneyRefNew']= LabelEncoding('JourneyRef')\n",
        "df['VehicleDirectionNew']= LabelEncoding('VehicleDirection')\n",
        "df['DestinationStopIdNew']= LabelEncoding('DestinationStopId')\n",
        "df['BusStopIdNew']= LabelEncoding('BusStopId')\n",
        "df['BusStopAddressNew'] = LabelEncoding('BusStopAddress')"
      ],
      "execution_count": 0,
      "outputs": []
    },
    {
      "cell_type": "code",
      "metadata": {
        "id": "f6cc5hKNkxdF",
        "colab_type": "code",
        "colab": {}
      },
      "source": [
        "df['Weekday']= df['RecordedArrivalTime'].dt.weekday\n",
        "df['AimedMinutesDueUpdated'] = (df['RecordedArrivalTime']-df['AimedArrivalTime']).astype('timedelta64[m]')"
      ],
      "execution_count": 0,
      "outputs": []
    },
    {
      "cell_type": "code",
      "metadata": {
        "id": "41oMrStTBZJA",
        "colab_type": "code",
        "outputId": "df5fc1c3-7dd8-454d-f42f-e2817f416305",
        "colab": {
          "base_uri": "https://localhost:8080/",
          "height": 492
        }
      },
      "source": [
        "import pandas as pd\n",
        "df['HourOfDay']=df['RecordedArrivalTime'].dt.hour\n",
        "#df['WeeklyHourOfDay']=df['RecordedArrivalTime'].dt.hour*df['RecordedArrivalTime'].dt.weekday\n",
        "print(df.dtypes)"
      ],
      "execution_count": 55,
      "outputs": [
        {
          "output_type": "stream",
          "text": [
            "RouteNumber                             int64\n",
            "BlockRef                                int64\n",
            "VehicleRef                              int64\n",
            "JourneyRef                              int64\n",
            "VehicleDirection                       object\n",
            "DestinationStopId                       int64\n",
            "BusStopId                               int64\n",
            "VisitSequenceNumber                     int64\n",
            "RecordedArrivalTime       datetime64[ns, UTC]\n",
            "AimedArrivalTime          datetime64[ns, UTC]\n",
            "InCongestionIndicator                   int64\n",
            "AimedMinutesDue                        object\n",
            "RouteSequence                           int64\n",
            "BusStopAddress                         object\n",
            "Latitude                              float64\n",
            "Longitude                             float64\n",
            "BlockRefNew                             int64\n",
            "VehicleRefNew                           int64\n",
            "JourneyRefNew                           int64\n",
            "VehicleDirectionNew                     int64\n",
            "DestinationStopIdNew                    int64\n",
            "BusStopIdNew                            int64\n",
            "BusStopAddressNew                       int64\n",
            "Weekday                                 int64\n",
            "AimedMinutesDueUpdated                float64\n",
            "HourOfDay                               int64\n",
            "dtype: object\n"
          ],
          "name": "stdout"
        }
      ]
    },
    {
      "cell_type": "code",
      "metadata": {
        "id": "Ao3bxrMMUx6r",
        "colab_type": "code",
        "colab": {}
      },
      "source": [
        "df['LogLat']=df['Longitude']*df['Latitude'].astype(int)\n",
        "df['Week_of_the_month']= ((df['RecordedArrivalTime'].dt.day + (df['RecordedArrivalTime'].dt.weekday)) / 6);\n",
        "df['Week_of_the_month'] =  np.trunc(df['Week_of_the_month']).astype(int)\n",
        "df['AimedMinutesDue'] = pd.to_numeric(df['AimedMinutesDue'], downcast='integer')\n",
        "df['AimedMinutesDueUpdated'] = pd.to_numeric(df['AimedMinutesDueUpdated'], downcast='integer')"
      ],
      "execution_count": 0,
      "outputs": []
    },
    {
      "cell_type": "code",
      "metadata": {
        "id": "fGBZHo-RxNaM",
        "colab_type": "code",
        "outputId": "dd39752b-9e21-4dc9-f50d-50bf085f5f62",
        "colab": {
          "base_uri": "https://localhost:8080/",
          "height": 427
        }
      },
      "source": [
        "sns.heatmap(df.corr(),cmap=cmap)"
      ],
      "execution_count": 43,
      "outputs": [
        {
          "output_type": "execute_result",
          "data": {
            "text/plain": [
              "<matplotlib.axes._subplots.AxesSubplot at 0x7f13c35704a8>"
            ]
          },
          "metadata": {
            "tags": []
          },
          "execution_count": 43
        },
        {
          "output_type": "display_data",
          "data": {
            "image/png": "[encoded data removed]",
            "text/plain": [
              "<Figure size 432x288 with 2 Axes>"
            ]
          },
          "metadata": {
            "tags": []
          }
        }
      ]
    },
    {
      "cell_type": "code",
      "metadata": {
        "id": "rrm9WxUzJUtX",
        "colab_type": "code",
        "colab": {}
      },
      "source": [
        "df = df.drop(['RecordedArrivalTime','BlockRef','VehicleRef','JourneyRef',\n",
        "              'BusStopId','DestinationStopId','VehicleDirection','BusStopAddress',\n",
        "              'RouteSequence','Week_of_the_month','InCongestionIndicator','RouteNumber',\n",
        "              'DestinationStopIdNew','Hour_of_the_day','Longitude','Latitude','AimedArrivalTime','AimedMinutesDue','LogLat'],axis =1, errors='ignore')"
      ],
      "execution_count": 0,
      "outputs": []
    },
    {
      "cell_type": "code",
      "metadata": {
        "id": "uN31UOIqJx40",
        "colab_type": "code",
        "outputId": "5d84219f-98de-4d86-cd89-99d9fd3c1c6e",
        "colab": {
          "base_uri": "https://localhost:8080/",
          "height": 427
        }
      },
      "source": [
        "sns.heatmap(df.corr(),cmap=cmap)"
      ],
      "execution_count": 58,
      "outputs": [
        {
          "output_type": "execute_result",
          "data": {
            "text/plain": [
              "<matplotlib.axes._subplots.AxesSubplot at 0x7f136ef3f1d0>"
            ]
          },
          "metadata": {
            "tags": []
          },
          "execution_count": 58
        },
        {
          "output_type": "display_data",
          "data": {
            "image/png": "[encoded data removed]",
            "text/plain": [
              "<Figure size 432x288 with 2 Axes>"
            ]
          },
          "metadata": {
            "tags": []
          }
        }
      ]
    },
    {
      "cell_type": "code",
      "metadata": {
        "id": "Eblqzg1OYzdp",
        "colab_type": "code",
        "colab": {}
      },
      "source": [
        "# df[\"visithr\"]=df[\"Hour_of_the_day_new\"]*df[\"VisitSequenceNumber\"]\n",
        "# df[\"vehiwkday\"]=df[\"Hour_of_the_day_new\"]*df[\"Weekday\"]\n",
        "# df=df.drop([\"Hour_of_the_day_new\",\"VisitSequenceNumber\",\"Weekday\"],axis =1)"
      ],
      "execution_count": 0,
      "outputs": []
    },
    {
      "cell_type": "code",
      "metadata": {
        "id": "EWJFh-7EMWab",
        "colab_type": "code",
        "outputId": "f59e5c74-e2b8-4dec-c7c8-8a9384aadb8c",
        "colab": {
          "base_uri": "https://localhost:8080/",
          "height": 246
        }
      },
      "source": [
        "from sklearn.model_selection import train_test_split\n",
        "train_x, test_x, train_y, test_y = train_test_split(df.drop('AimedMinutesDueUpdated', axis=1), df['AimedMinutesDueUpdated'], test_size=0.2, random_state=42)\n",
        "print(df.dtypes)\n",
        "train_x.shape"
      ],
      "execution_count": 59,
      "outputs": [
        {
          "output_type": "stream",
          "text": [
            "VisitSequenceNumber         int64\n",
            "BlockRefNew                 int64\n",
            "VehicleRefNew               int64\n",
            "JourneyRefNew               int64\n",
            "VehicleDirectionNew         int64\n",
            "BusStopIdNew                int64\n",
            "BusStopAddressNew           int64\n",
            "Weekday                     int64\n",
            "AimedMinutesDueUpdated       int8\n",
            "HourOfDay                   int64\n",
            "LogLat                    float64\n",
            "dtype: object\n"
          ],
          "name": "stdout"
        },
        {
          "output_type": "execute_result",
          "data": {
            "text/plain": [
              "(1090576, 10)"
            ]
          },
          "metadata": {
            "tags": []
          },
          "execution_count": 59
        }
      ]
    },
    {
      "cell_type": "code",
      "metadata": {
        "id": "PZxA4biPM5XQ",
        "colab_type": "code",
        "outputId": "7f3e5be6-1e85-4eb5-fd1c-7305db898cdb",
        "colab": {
          "base_uri": "https://localhost:8080/",
          "height": 35
        }
      },
      "source": [
        "from sklearn.linear_model import LinearRegression\n",
        "from sklearn import metrics\n",
        "from sklearn.metrics import r2_score\n",
        "from sklearn.metrics import accuracy_score\n",
        "\n",
        "regressor = LinearRegression(fit_intercept=True,normalize=True, copy_X=True)  \n",
        "regressor.fit(train_x, train_y)\n",
        "y_pred = regressor.predict(test_x)\n",
        "regressor.score(test_x,test_y)\n"
      ],
      "execution_count": 60,
      "outputs": [
        {
          "output_type": "execute_result",
          "data": {
            "text/plain": [
              "0.022187117352293617"
            ]
          },
          "metadata": {
            "tags": []
          },
          "execution_count": 60
        }
      ]
    },
    {
      "cell_type": "code",
      "metadata": {
        "id": "FztoDU6a9YOL",
        "colab_type": "code",
        "colab": {}
      },
      "source": [
        "df."
      ],
      "execution_count": 0,
      "outputs": []
    },
    {
      "cell_type": "code",
      "metadata": {
        "id": "Sld3JnQRjbL7",
        "colab_type": "code",
        "colab": {}
      },
      "source": [
        "from sklearn.svm import SVR\n",
        "svr_rbf = SVR(kernel='rbf', C=100, gamma=0.001, epsilon=1)\n",
        "svr_rbf.fit(train_x, train_y)\n",
        "svr_rbf.score(test_x,test_y)"
      ],
      "execution_count": 0,
      "outputs": []
    },
    {
      "cell_type": "code",
      "metadata": {
        "id": "9YZa6jg51usd",
        "colab_type": "code",
        "colab": {}
      },
      "source": [
        "df."
      ],
      "execution_count": 0,
      "outputs": []
    },
    {
      "cell_type": "code",
      "metadata": {
        "id": "qc5mWZtkjxMm",
        "colab_type": "code",
        "colab": {}
      },
      "source": [
        "from sklearn.linear_model import LinearRegression\n",
        "from sklearn import linear_model\n",
        "from sklearn.model_selection import GridSearchCV\n",
        "\n",
        "model = linear_model.LinearRegression()\n",
        "parameters = {'fit_intercept':[True,False], 'normalize':[True,False], 'copy_X':[True, False]}\n",
        "grid_search = GridSearchCV(model,parameters, cv=None)\n",
        "grid_search.fit(train_x, train_y)\n",
        "pd.DataFrame(grid_search.cv_results_).sort_values('mean_test_score', ascending=False)[0:5]"
      ],
      "execution_count": 0,
      "outputs": []
    },
    {
      "cell_type": "code",
      "metadata": {
        "id": "toU7IPpqbJEh",
        "colab_type": "code",
        "colab": {}
      },
      "source": [
        "from sklearn.svm import SVR\n",
        "from sklearn.svm import SVC\n",
        "# from sklearn.metrics import make_scorer\n",
        "# scorer = make_scorer(mean_squared_error, greater_is_better=False)\n",
        "# svr_gs = GridSearchCV(SVR(epsilon = 0.01), parameters, cv = K, scoring=scorer)\n",
        "\n",
        "# def svc_param_selection(X, y, nfolds):\n",
        "param_grid = {'C': [0.001, 0.01, 10, 100], 'gamma' : [0.001, 0.01, 0.1, 0.001]}\n",
        "grid_search = GridSearchCV(SVR(epsilon = 0.01), param_grid, cv = 5)\n",
        "grid_search.fit(train_x, train_y)\n",
        "pd.DataFrame(grid_search.cv_results_).sort_values('mean_test_score', ascending=False)[0:5]\n",
        "\n",
        "# svr_rbf = SVR(kernel='rbf', C=100, gamma=0.001, epsilon=1)\n",
        "# svr_rbf = SVR(svc_param_selection(train_x,train_y,5))\n",
        "# svr_rbf.fit(train_x, train_y)\n",
        "# svr_rbf.score(test_x,test_y)"
      ],
      "execution_count": 0,
      "outputs": []
    },
    {
      "cell_type": "code",
      "metadata": {
        "id": "tagPbYdVl8Re",
        "colab_type": "code",
        "colab": {}
      },
      "source": [
        "import xgboost as xgb\n",
        "from sklearn.metrics import mean_squared_error\n",
        "xg_reg = xgb.XGBRegressor(objective ='reg:squarederror', colsample_bytree = 0.3, learning_rate = 1,\n",
        "                max_depth = 5, alpha = 10, n_estimators = 10)\n",
        "xg_reg.fit(train_x,train_y)\n",
        "preds_y = xg_reg.predict(test_x)\n",
        "rmse = np.sqrt(mean_squared_error(test_y, preds_y))\n",
        "print(xg_reg.score(test_x,test_y))"
      ],
      "execution_count": 0,
      "outputs": []
    },
    {
      "cell_type": "code",
      "metadata": {
        "id": "F9Xbd1P9s3en",
        "colab_type": "code",
        "colab": {}
      },
      "source": [
        "from sklearn.linear_model import BayesianRidge\n",
        "clf = BayesianRidge(compute_score=True)\n",
        "clf.fit(train_x, train_y)\n",
        "y_pred = clf.predict(test_x)\n",
        "clf.score(test_x,test_y)"
      ],
      "execution_count": 0,
      "outputs": []
    },
    {
      "cell_type": "code",
      "metadata": {
        "id": "T6RceiTknaSA",
        "colab_type": "code",
        "colab": {}
      },
      "source": [
        "from sklearn.preprocessing import PolynomialFeatures \n",
        "  \n",
        "poly = PolynomialFeatures(degree = 4) \n",
        "X_poly = poly.fit_transform(X) \n",
        "  \n",
        "poly.fit(X_poly, y) \n",
        "lin2 = LinearRegression() \n",
        "lin2.fit(X_poly, y)"
      ],
      "execution_count": 0,
      "outputs": []
    },
    {
      "cell_type": "code",
      "metadata": {
        "id": "PUUhsIWPu1rD",
        "colab_type": "code",
        "colab": {}
      },
      "source": [
        "import matplotlib.pyplot as plt\n",
        "plt.plot(test_y, y_pred, color='gold',\n",
        "         label=\"Ground Truth\")\n",
        "plt.ylabel(\"Output y\")\n",
        "plt.xlabel(\"Feature X\")\n",
        "plt.legend(loc=\"lower left\")\n",
        "plt.show()"
      ],
      "execution_count": 0,
      "outputs": []
    }
  ]
}